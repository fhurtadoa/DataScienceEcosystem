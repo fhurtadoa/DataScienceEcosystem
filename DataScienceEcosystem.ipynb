{
 "cells": [
  {
   "cell_type": "markdown",
   "id": "2be1a338-b818-454a-a432-90b68cbbe197",
   "metadata": {},
   "source": [
    "# Data Science Tools and Ecosystem"
   ]
  },
  {
   "cell_type": "markdown",
   "id": "eebc7267-72de-4d09-9af4-1f38e1ff3974",
   "metadata": {},
   "source": [
    "## In this notebook, Data Science Tools and Ecosystem are summarized."
   ]
  },
  {
   "cell_type": "markdown",
   "id": "97fa63bd-804f-4150-bb78-cdeb2822dbe7",
   "metadata": {},
   "source": [
    "**Objectives:**\n"
   ]
  },
  {
   "cell_type": "markdown",
   "id": "890d8cc4-896b-4854-a3a6-8bc9fb1d3b23",
   "metadata": {},
   "source": [
    "- List popular languages for Data Science\n",
    "- Outline commonly used libraries in Data Science\n",
    "- Demonstrate basic arithmetic operations\n",
    "- Convert time units (minutes to hours)\n",
    "- Use markdown to organize notebook content\n"
   ]
  },
  {
   "cell_type": "markdown",
   "id": "fb451a76-65d5-4f3f-a465-c08f17d4d42c",
   "metadata": {},
   "source": [
    "### Some of the popular languages that Data Scientists use are:"
   ]
  },
  {
   "cell_type": "markdown",
   "id": "d107a87e-29ed-48ab-a2f1-8bf5b239ee25",
   "metadata": {},
   "source": [
    "1. Python\n",
    "2. R\n",
    "3. SQL\n",
    "4. Julia\n",
    "5. Scala"
   ]
  },
  {
   "cell_type": "markdown",
   "id": "8e2730ff-a3b4-4735-ad52-159888d48dad",
   "metadata": {},
   "source": [
    "### Some of the commonly used libraries used by Data Scientists include:"
   ]
  },
  {
   "cell_type": "markdown",
   "id": "2bc9c447-4fac-44a7-adb7-2c13320b665f",
   "metadata": {},
   "source": [
    "1. Pandas\n",
    "2. Scikit-learn\n",
    "3. TensorFlow\n",
    "4. ggplot2\n",
    "5. XGBoost "
   ]
  },
  {
   "cell_type": "markdown",
   "id": "8a58e60d-c0b2-440c-9a25-fb9f0e44d92d",
   "metadata": {},
   "source": [
    "| Data Science Tools      |\r\n",
    "|-------------------------|\r\n",
    "| Jupyter Notebooks        |\r\n",
    "| RStudio                  |\r\n",
    "| Apache Zeppelin          |\r\n"
   ]
  },
  {
   "cell_type": "markdown",
   "id": "4115fe68-0830-490b-88b8-bd340b6db3ae",
   "metadata": {},
   "source": [
    "### Below are a few examples of evaluating arithmetic expressions in Python\n"
   ]
  },
  {
   "cell_type": "code",
   "execution_count": 21,
   "id": "d3c443e6-1d26-4e08-9c04-b4a362cc920b",
   "metadata": {},
   "outputs": [
    {
     "data": {
      "text/plain": [
       "15"
      ]
     },
     "execution_count": 21,
     "metadata": {},
     "output_type": "execute_result"
    }
   ],
   "source": [
    "x = 5\n",
    "y = 10\n",
    "\n",
    "sum = x + y\n",
    "\n",
    "sum"
   ]
  },
  {
   "cell_type": "code",
   "execution_count": 23,
   "id": "d8d862bc-4ea5-4af1-bea5-cd1d9da2698b",
   "metadata": {},
   "outputs": [
    {
     "data": {
      "text/plain": [
       "50"
      ]
     },
     "execution_count": 23,
     "metadata": {},
     "output_type": "execute_result"
    }
   ],
   "source": [
    "x = 5\n",
    "y = 10\n",
    "\n",
    "multi = x*y\n",
    "\n",
    "multi"
   ]
  },
  {
   "cell_type": "markdown",
   "id": "fddf8644-e9a1-4feb-a53b-dcf79faf30f7",
   "metadata": {},
   "source": [
    "### This a simple arithmetic expression to mutiply then add integers"
   ]
  },
  {
   "cell_type": "code",
   "execution_count": 19,
   "id": "0bf5991c-ee4f-454a-9066-97020e2c529b",
   "metadata": {},
   "outputs": [
    {
     "data": {
      "text/plain": [
       "17"
      ]
     },
     "execution_count": 19,
     "metadata": {},
     "output_type": "execute_result"
    }
   ],
   "source": [
    "expre = (3*4)+5\n",
    "\n",
    "expre"
   ]
  },
  {
   "cell_type": "markdown",
   "id": "0c7275a5-0b6c-4f80-a17b-ee6d1a8918a1",
   "metadata": {},
   "source": [
    "### This will convert 200 minutes to hours by diving by 60"
   ]
  },
  {
   "cell_type": "code",
   "execution_count": 37,
   "id": "766b02e1-eda2-402e-b740-aed1630fd980",
   "metadata": {},
   "outputs": [
    {
     "name": "stdout",
     "output_type": "stream",
     "text": [
      "3.3333333333333335 Hours\n"
     ]
    }
   ],
   "source": [
    "minutes = 200\n",
    "hours = minutes / 60\n",
    "print(f'{hours} Hours')"
   ]
  },
  {
   "cell_type": "markdown",
   "id": "662dcc6c-a876-48ee-a95c-e65777a28653",
   "metadata": {},
   "source": [
    "## Author\n"
   ]
  },
  {
   "cell_type": "markdown",
   "id": "f1037f4c-ac24-4793-9029-c6fab1e01aa0",
   "metadata": {},
   "source": [
    "Fabian Andres Hurtado Arango\n"
   ]
  },
  {
   "cell_type": "code",
   "execution_count": null,
   "id": "d89f7f7d-662f-4c18-9bd8-71ebedbe31d1",
   "metadata": {},
   "outputs": [],
   "source": []
  }
 ],
 "metadata": {
  "kernelspec": {
   "display_name": "Python 3 (ipykernel)",
   "language": "python",
   "name": "python3"
  },
  "language_info": {
   "codemirror_mode": {
    "name": "ipython",
    "version": 3
   },
   "file_extension": ".py",
   "mimetype": "text/x-python",
   "name": "python",
   "nbconvert_exporter": "python",
   "pygments_lexer": "ipython3",
   "version": "3.12.4"
  }
 },
 "nbformat": 4,
 "nbformat_minor": 5
}
